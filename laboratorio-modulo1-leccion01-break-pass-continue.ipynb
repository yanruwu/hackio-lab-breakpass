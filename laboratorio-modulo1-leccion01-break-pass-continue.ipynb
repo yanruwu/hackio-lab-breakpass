{
 "cells": [
  {
   "cell_type": "markdown",
   "metadata": {},
   "source": [
    "\n",
    "<div style=\"text-align: center;\">\n",
    "  <img src=\"https://github.com/Hack-io-Data/Imagenes/blob/main/01-LogosHackio/logo_celeste@4x.png?raw=true\" alt=\"esquema\" />\n",
    "</div>\n"
   ]
  },
  {
   "cell_type": "markdown",
   "metadata": {},
   "source": [
    "# Laboratorio de Python: break(), pass(), continue()"
   ]
  },
  {
   "cell_type": "markdown",
   "metadata": {},
   "source": [
    "## Ejercicio 1: Validación de datos numéricos. \n",
    "\n",
    "Escribe un bucle que lea una lista de números y detenga la ejecución si encuentra un valor negativo. Muestra un mensaje indicando el número negativo encontrado.\n"
   ]
  },
  {
   "cell_type": "code",
   "execution_count": 1,
   "metadata": {},
   "outputs": [],
   "source": [
    "import numpy as np"
   ]
  },
  {
   "cell_type": "code",
   "execution_count": 32,
   "metadata": {},
   "outputs": [
    {
     "name": "stdout",
     "output_type": "stream",
     "text": [
      "[76 97 32 71 61  2 63 82 53 60 -8 92 32 73 40]\n",
      "Número negativo encontrado: -8\n"
     ]
    }
   ],
   "source": [
    "arr = np.random.randint(-10, 100, size = 15)\n",
    "print(arr)\n",
    "for ele in arr:\n",
    "    if ele < 0:\n",
    "        print(f'Número negativo encontrado: {ele}')\n",
    "        break"
   ]
  },
  {
   "cell_type": "markdown",
   "metadata": {},
   "source": [
    "\n",
    "## Ejercicio 2: Filtrado de datos\n",
    "\n",
    "Escribe un bucle que imprima los números de una lista, pero que omita los números pares.\n"
   ]
  },
  {
   "cell_type": "code",
   "execution_count": 35,
   "metadata": {},
   "outputs": [
    {
     "name": "stdout",
     "output_type": "stream",
     "text": [
      "61\n",
      "79\n",
      "47\n",
      "95\n",
      "21\n",
      "5\n",
      "45\n",
      "59\n",
      "31\n"
     ]
    }
   ],
   "source": [
    "arr = np.random.randint(0, 100, size = 15)\n",
    "for ele in arr:\n",
    "    if ele%2 != 0:\n",
    "        print(ele)\n",
    "    else: \n",
    "        continue"
   ]
  },
  {
   "cell_type": "markdown",
   "metadata": {},
   "source": [
    "## Ejercicio 3: Búsqueda de un valor\n",
    "\n",
    "Escribe un programa que busque un valor específico en una lista y detenga la búsqueda cuando lo encuentre. Si se encuentra, muestra un mensaje.\n"
   ]
  },
  {
   "cell_type": "code",
   "execution_count": 69,
   "metadata": {},
   "outputs": [
    {
     "name": "stdout",
     "output_type": "stream",
     "text": [
      "Elemento encontrado en posición: 1322.\n"
     ]
    }
   ],
   "source": [
    "arr = np.random.randint(0, 100, size = 1500)\n",
    "x = 101\n",
    "arr[np.random.randint(0, len(arr))] = x\n",
    "\n",
    "for i in range(len(arr)):\n",
    "    if arr[i] == x:\n",
    "        print(f'Elemento encontrado en posición: {i}.')\n",
    "    else:\n",
    "        continue"
   ]
  },
  {
   "cell_type": "markdown",
   "metadata": {},
   "source": [
    "## Ejercicio 4: Estructura de código incompleto\n",
    "\n",
    "Define una función que aún no tenga lógica implementada, pero que se pueda ejecutar sin errores utilizando `pass`."
   ]
  },
  {
   "cell_type": "code",
   "execution_count": 73,
   "metadata": {},
   "outputs": [],
   "source": [
    "def ilogic(arr):\n",
    "    sqrts = []\n",
    "    for ele in arr:\n",
    "        if ele < 0:\n",
    "            pass\n",
    "        else:\n",
    "            sqrts.append(np.sqrt(ele))\n",
    "    return sqrts\n"
   ]
  },
  {
   "cell_type": "markdown",
   "metadata": {},
   "source": [
    "## Ejercicio 5: Validación condicional\n",
    "\n",
    "Escribe un bucle que verifique una lista de nombres. Si encuentra un nombre vacío (cadena vacía), salta esa iteración y continúa con los demás nombres.\n"
   ]
  },
  {
   "cell_type": "code",
   "execution_count": 75,
   "metadata": {},
   "outputs": [
    {
     "name": "stdout",
     "output_type": "stream",
     "text": [
      "['Antonio', 'Antonia', 'Pepe', 'Pepa', 'Jose', 'Mario', 'María']\n"
     ]
    }
   ],
   "source": [
    "names = [\"Antonio\", \"Antonia\", \"Pepe\", \"Pepa\", \"Jose\", \"\", \"Mario\", \"María\"]\n",
    "names_verified = []\n",
    "for name in names:\n",
    "    if name == \"\":\n",
    "        continue\n",
    "    else:\n",
    "        names_verified.append(name)\n",
    "print(names_verified)"
   ]
  },
  {
   "cell_type": "markdown",
   "metadata": {},
   "source": [
    "## Ejercicio 6: Búsqueda de claves en un diccionario\n",
    "\n",
    "Escribe un programa que recorra un diccionario y detenga la búsqueda si encuentra una clave específica pasada por el usuario.\n"
   ]
  },
  {
   "cell_type": "code",
   "execution_count": 80,
   "metadata": {},
   "outputs": [],
   "source": [
    "cosas = dict(oficina = [\"mesa\", \"silla\"], cocina = [\"horno\", \"microondas\"], salon = [\"sofá\", \"lámpara\"])\n",
    "key_target = input(\"Introduzca la clave\")\n",
    "for key in cosas.keys():\n",
    "    if key == key_target:\n",
    "        print(cosas[key])\n",
    "        break\n",
    "    else:\n",
    "        continue"
   ]
  },
  {
   "cell_type": "markdown",
   "metadata": {},
   "source": [
    "## Ejercicio 7: Bucle con múltiples excepciones\n",
    "\n",
    "Escribe un bucle que procese una lista de operaciones matemáticas, omitiendo las operaciones que intenten dividir por cero.\n"
   ]
  },
  {
   "cell_type": "code",
   "execution_count": 226,
   "metadata": {},
   "outputs": [
    {
     "name": "stdout",
     "output_type": "stream",
     "text": [
      "['-1*0', '7-0', '-1*2', '-2/0', '8/0', '8-0', '0*-1', '7*-3', '-1--1', '-4--2']\n",
      "[0, 7, -2, 8, 0, -21, 0, -2]\n"
     ]
    }
   ],
   "source": [
    "operaciones = \"+,-,*,/\".split(sep = \",\")\n",
    "lista_ops = []\n",
    "op_text = ''\n",
    "num1 = np.random.randint(-4,10, size = 10)\n",
    "op = np.random.choice(a = operaciones, size = 10, p = [0.2,0.2,0.2,0.4])\n",
    "num2 = np.random.choice(a = [-3, -2, -1, 0, 1, 2, 3], p = [0.1, 0.1, 0.1, 0.40, 0.1, 0.1, 0.1], size = 10)\n",
    "\n",
    "results = []\n",
    "for i in range(10):\n",
    "    lista_ops.append(op_text.join([str(num1[i]), op[i], str(num2[i])]))\n",
    "    if op[i] == '/' and num2[i] == 0:\n",
    "        continue\n",
    "    else:   \n",
    "        results.append(eval(lista_ops[i]))\n",
    "\n",
    "print(lista_ops)\n",
    "print(results)\n"
   ]
  },
  {
   "cell_type": "markdown",
   "metadata": {},
   "source": [
    "## Ejercicio 8: Búsqueda en una lista anidada\n",
    "\n",
    "Escribe un programa que recorra una lista de listas y detenga la búsqueda cuando encuentre un valor mayor a 50.\n"
   ]
  },
  {
   "cell_type": "code",
   "execution_count": 101,
   "metadata": {},
   "outputs": [
    {
     "name": "stdout",
     "output_type": "stream",
     "text": [
      "Valor encontrado!: 51\n"
     ]
    }
   ],
   "source": [
    "lista_anidada = [[1,2,3],[51,1,7,4],[57,4,6]]\n",
    "encontrado = False\n",
    "for i in range(len(lista_anidada)):\n",
    "    for j in range(len(lista_anidada[i])):\n",
    "        if lista_anidada[i][j] > 50:\n",
    "            encontrado = True\n",
    "            print(f\"Valor encontrado!: {lista_anidada[i][j]}\")\n",
    "            break\n",
    "    if encontrado:\n",
    "        break"
   ]
  },
  {
   "cell_type": "markdown",
   "metadata": {},
   "source": [
    "## Ejercicio 9: Evaluación de series temporales\n",
    "\n",
    "Escribe un programa que recorra una lista de datos de series temporales y se detenga si encuentra un valor atípico (mayor a 100).\n"
   ]
  },
  {
   "cell_type": "code",
   "execution_count": 108,
   "metadata": {},
   "outputs": [
    {
     "name": "stdout",
     "output_type": "stream",
     "text": [
      "Valor atípico!: 102\n"
     ]
    }
   ],
   "source": [
    "serie = [x*2 for x in range(1,100)]\n",
    "for ele in serie:\n",
    "    if ele > 100:\n",
    "        print(f\"Valor atípico!: {ele}\")\n",
    "        break\n"
   ]
  },
  {
   "cell_type": "markdown",
   "metadata": {},
   "source": [
    "## Ejercicio 10: Iteración con valores faltantes\n",
    "\n",
    "Crea un bucle que recorra una lista de datos de ventas y salte los valores faltantes representados por `None`."
   ]
  },
  {
   "cell_type": "code",
   "execution_count": 181,
   "metadata": {},
   "outputs": [
    {
     "name": "stdout",
     "output_type": "stream",
     "text": [
      "[6 None 9 None 9 4 16 14 6 16 1 17 2 None 15]\n",
      "[ 6  9  9  4 16 14  6 16  1 17  2 15]\n"
     ]
    }
   ],
   "source": [
    "a = [x for x in range(20)]\n",
    "a.append(None)\n",
    "ventas = np.random.choice(a = a, size = 15)\n",
    "ventas_limpio = np.array([], dtype = int)\n",
    "for venta in ventas:\n",
    "    if venta is None:\n",
    "        continue\n",
    "    else:\n",
    "        ventas_limpio = np.append(ventas_limpio, venta)\n",
    "print(ventas)\n",
    "print(ventas_limpio)"
   ]
  },
  {
   "cell_type": "markdown",
   "metadata": {},
   "source": [
    "## Ejercicio 11: Control de flujo en bucles anidados\n",
    "\n",
    "Escribe un bucle que recorra la matriz dada y se detenga si se encuentra un número negativo, mostrando su posición.\n",
    "\n"
   ]
  },
  {
   "cell_type": "code",
   "execution_count": 254,
   "metadata": {},
   "outputs": [
    {
     "name": "stdout",
     "output_type": "stream",
     "text": [
      "La posición del negativo -1 es (0,3)\n",
      "[[ 2  4  5 -1]\n",
      " [ 7  6  9  7]\n",
      " [ 6  6  1  1]\n",
      " [ 5  9  7  5]]\n"
     ]
    }
   ],
   "source": [
    "matrix = np.random.randint(-1,10,size = (4,4))\n",
    "found = False\n",
    "for i in range(matrix.shape[0]):\n",
    "    for j in range(matrix.shape[1]):\n",
    "        if matrix[i][j] < 0:\n",
    "            print(f\"La posición del negativo {matrix[i][j]} es ({i},{j})\")\n",
    "            found = True\n",
    "            break\n",
    "    if found:\n",
    "        break\n",
    "print(matrix)"
   ]
  },
  {
   "cell_type": "markdown",
   "metadata": {},
   "source": [
    "## Ejercicio 12: Placeholder para funciones incompletas\n",
    "\n",
    "Escribe una función que tenga un bloque de control que aún no esté implementado, utilizando `pass` para que no genere errores."
   ]
  },
  {
   "cell_type": "code",
   "execution_count": 276,
   "metadata": {},
   "outputs": [
    {
     "data": {
      "text/plain": [
       "(array([ 309, -233, -142,  376,  737, -867, -468, -538,  362, -890]), -135.4)"
      ]
     },
     "execution_count": 276,
     "metadata": {},
     "output_type": "execute_result"
    }
   ],
   "source": [
    "arr = np.random.randint(-1000,1000,size = 10)\n",
    "def funcion_incompleta(arr, it):\n",
    "    for i in range(it):\n",
    "        suma = sum(arr)\n",
    "        media = suma/len(arr)\n",
    "        if media < 0:\n",
    "            pass\n",
    "        else:\n",
    "            arr = np.random.randint(-media, media, size = 10)\n",
    "    return arr, media\n",
    "\n",
    "funcion_incompleta(arr, 1000)"
   ]
  }
 ],
 "metadata": {
  "kernelspec": {
   "display_name": "contenido",
   "language": "python",
   "name": "python3"
  },
  "language_info": {
   "codemirror_mode": {
    "name": "ipython",
    "version": 3
   },
   "file_extension": ".py",
   "mimetype": "text/x-python",
   "name": "python",
   "nbconvert_exporter": "python",
   "pygments_lexer": "ipython3",
   "version": "3.11.9"
  }
 },
 "nbformat": 4,
 "nbformat_minor": 2
}
